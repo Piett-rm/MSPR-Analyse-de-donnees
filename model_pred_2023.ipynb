{
 "cells": [
  {
   "cell_type": "code",
   "execution_count": 9,
   "metadata": {},
   "outputs": [
    {
     "name": "stderr",
     "output_type": "stream",
     "text": [
      "f:\\Developpement\\MSPR-Analyse-de-donnees\\venv\\Lib\\site-packages\\sklearn\\base.py:376: InconsistentVersionWarning: Trying to unpickle estimator DummyRegressor from version 1.4.2 when using version 1.5.0. This might lead to breaking code or invalid results. Use at your own risk. For more info please refer to:\n",
      "https://scikit-learn.org/stable/model_persistence.html#security-maintainability-limitations\n",
      "  warnings.warn(\n",
      "f:\\Developpement\\MSPR-Analyse-de-donnees\\venv\\Lib\\site-packages\\sklearn\\base.py:376: InconsistentVersionWarning: Trying to unpickle estimator DecisionTreeRegressor from version 1.4.2 when using version 1.5.0. This might lead to breaking code or invalid results. Use at your own risk. For more info please refer to:\n",
      "https://scikit-learn.org/stable/model_persistence.html#security-maintainability-limitations\n",
      "  warnings.warn(\n",
      "f:\\Developpement\\MSPR-Analyse-de-donnees\\venv\\Lib\\site-packages\\sklearn\\base.py:376: InconsistentVersionWarning: Trying to unpickle estimator GradientBoostingRegressor from version 1.4.2 when using version 1.5.0. This might lead to breaking code or invalid results. Use at your own risk. For more info please refer to:\n",
      "https://scikit-learn.org/stable/model_persistence.html#security-maintainability-limitations\n",
      "  warnings.warn(\n",
      "f:\\Developpement\\MSPR-Analyse-de-donnees\\venv\\Lib\\site-packages\\sklearn\\base.py:376: InconsistentVersionWarning: Trying to unpickle estimator FunctionTransformer from version 1.4.2 when using version 1.5.0. This might lead to breaking code or invalid results. Use at your own risk. For more info please refer to:\n",
      "https://scikit-learn.org/stable/model_persistence.html#security-maintainability-limitations\n",
      "  warnings.warn(\n",
      "f:\\Developpement\\MSPR-Analyse-de-donnees\\venv\\Lib\\site-packages\\sklearn\\base.py:376: InconsistentVersionWarning: Trying to unpickle estimator LinearRegression from version 1.4.2 when using version 1.5.0. This might lead to breaking code or invalid results. Use at your own risk. For more info please refer to:\n",
      "https://scikit-learn.org/stable/model_persistence.html#security-maintainability-limitations\n",
      "  warnings.warn(\n",
      "f:\\Developpement\\MSPR-Analyse-de-donnees\\venv\\Lib\\site-packages\\sklearn\\base.py:376: InconsistentVersionWarning: Trying to unpickle estimator StackingRegressor from version 1.4.2 when using version 1.5.0. This might lead to breaking code or invalid results. Use at your own risk. For more info please refer to:\n",
      "https://scikit-learn.org/stable/model_persistence.html#security-maintainability-limitations\n",
      "  warnings.warn(\n"
     ]
    }
   ],
   "source": [
    "import joblib\n",
    "import tensorflow as tf\n",
    "from sklearn.ensemble import StackingRegressor\n",
    "from keras_functions import r2_keras,build_model\n",
    "\n",
    "model_gradient = joblib.load('./final_model/gradient_bossting.pkl')\n",
    "model_neural = tf.keras.models.load_model('./final_model/neural_network.keras')\n",
    "with open('./final_model/stacking_model.pkl', 'rb') as f:\n",
    "    loaded_model: StackingRegressor  = joblib.load(f)\n"
   ]
  },
  {
   "cell_type": "code",
   "execution_count": 10,
   "metadata": {},
   "outputs": [],
   "source": [
    "import pandas as pd\n",
    "from sklearn.preprocessing import LabelEncoder\n",
    "df_pred = pd.read_csv('./donnees_predictions.csv')\n",
    "le = LabelEncoder()\n",
    "df_pred['nom'] = le.fit_transform(df_pred['nom'])\n",
    "\n",
    "X_2023= df_pred[[\"part_pauvres_diff\",\"part_modestes_diff\",\"part_medians_diff\",\"part_plutot_aises_diff\",\n",
    "                 \"part_aises_diff\",\"actemp\",\"actcho\",\"inactret\",\"age_moyen\",\"total_voix_par_ville\",\"nom\"\n",
    "                 ,\"insecurite\",\"taux_chomage_moyen\"]].copy()\n",
    "\n",
    "df_all = pd.read_csv('./all_donnees.csv')\n",
    "le = LabelEncoder()\n",
    "df_all['nom'] = le.fit_transform(df_all['nom'])\n",
    "\n",
    "y_2022= df_all[['pourcentage_voix']].copy()\n",
    "\n",
    "X_2022= df_all[[\"part_pauvres_diff\",\"part_modestes_diff\",\"part_medians_diff\",\"part_plutot_aises_diff\",\n",
    "                 \"part_aises_diff\",\"actemp\",\"actcho\",\"inactret\",\"age_moyen\",\"total_voix_par_ville\",\"nom\"\n",
    "                 ,\"insecurite\",\"taux_chomage_moyen\"]].copy()"
   ]
  },
  {
   "cell_type": "code",
   "execution_count": 11,
   "metadata": {},
   "outputs": [],
   "source": [
    "y_2023 = loaded_model.predict(X_2023)\n",
    "y_pred_2022 = loaded_model.predict(X_2022)"
   ]
  },
  {
   "cell_type": "code",
   "execution_count": null,
   "metadata": {},
   "outputs": [],
   "source": []
  }
 ],
 "metadata": {
  "kernelspec": {
   "display_name": "venv",
   "language": "python",
   "name": "python3"
  },
  "language_info": {
   "codemirror_mode": {
    "name": "ipython",
    "version": 3
   },
   "file_extension": ".py",
   "mimetype": "text/x-python",
   "name": "python",
   "nbconvert_exporter": "python",
   "pygments_lexer": "ipython3",
   "version": "3.11.9"
  }
 },
 "nbformat": 4,
 "nbformat_minor": 2
}
