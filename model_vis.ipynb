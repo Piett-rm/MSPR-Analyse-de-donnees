{
 "cells": [
  {
   "cell_type": "code",
   "execution_count": 1,
   "metadata": {},
   "outputs": [],
   "source": [
    "import joblib\n",
    "import tensorflow as tf\n",
    "from sklearn.ensemble import StackingRegressor\n",
    "from keras_functions import r2_keras,build_model\n",
    "\n",
    "model_gradient = joblib.load('./final_model/gradient_bossting.pkl')\n",
    "model_neural = tf.keras.models.load_model('./final_model/neural_network.keras')\n",
    "with open('./final_model/stacking_model.pkl', 'rb') as f:\n",
    "    loaded_model: StackingRegressor  = joblib.load(f)\n"
   ]
  },
  {
   "cell_type": "code",
   "execution_count": null,
   "metadata": {},
   "outputs": [],
   "source": []
  }
 ],
 "metadata": {
  "kernelspec": {
   "display_name": "venv",
   "language": "python",
   "name": "python3"
  },
  "language_info": {
   "codemirror_mode": {
    "name": "ipython",
    "version": 3
   },
   "file_extension": ".py",
   "mimetype": "text/x-python",
   "name": "python",
   "nbconvert_exporter": "python",
   "pygments_lexer": "ipython3",
   "version": "3.11.9"
  }
 },
 "nbformat": 4,
 "nbformat_minor": 2
}
